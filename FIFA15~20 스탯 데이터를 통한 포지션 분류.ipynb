{
  "nbformat": 4,
  "nbformat_minor": 0,
  "metadata": {
    "colab": {
      "provenance": [],
      "collapsed_sections": [],
      "mount_file_id": "1CGHnDJZ9tV3wsAKl5OifryEF3l_dfeUl",
      "authorship_tag": "ABX9TyOQNQIMvCJlBq0GDRAuWcQu"
    },
    "kernelspec": {
      "name": "python3",
      "display_name": "Python 3"
    },
    "language_info": {
      "name": "python"
    },
    "gpuClass": "standard"
  },
  "cells": [
    {
      "cell_type": "markdown",
      "source": [
        "## FIFA 15~20 스탯별 데이터 분류하기"
      ],
      "metadata": {
        "id": "IMSLF7_qC8iv"
      }
    },
    {
      "cell_type": "markdown",
      "source": [
        "#### 모든 데이터는 kaggle에서 다운받은 데이터입니다.\n",
        "#### 평소 즐겨하는 FIFA 게임의 선수 스탯만으로 포지션을 분류할 수 있을지, 검증해 보려 합니다."
      ],
      "metadata": {
        "id": "A_n6SujLZ_lH"
      }
    },
    {
      "cell_type": "markdown",
      "source": [
        "### 1. 데이터 불러오기\n",
        "\n",
        "FIFA 15~ 20 데이터를 모두 사용합니다.\n",
        "\n",
        "데이터의 갯수는 약 12만개로, 이 중 다수는 중복되어 등장하나 매년 다른 스탯을 가진 선수입니다. \n",
        "\n",
        "따라서 다른 데이터로 볼 수 있습니다."
      ],
      "metadata": {
        "id": "jJBe2LD-ZmEA"
      }
    },
    {
      "cell_type": "code",
      "execution_count": 1,
      "metadata": {
        "colab": {
          "base_uri": "https://localhost:8080/"
        },
        "id": "r7FzASmP9Xu3",
        "outputId": "898ce868-f769-4c28-e2d7-01ae989010a1"
      },
      "outputs": [
        {
          "output_type": "execute_result",
          "data": {
            "text/plain": [
              "(118587, 104)"
            ]
          },
          "metadata": {},
          "execution_count": 1
        }
      ],
      "source": [
        "import pandas as pd\n",
        "import warnings\n",
        "warnings.filterwarnings('ignore')\n",
        "\n",
        "\n",
        "file15 = pd.read_csv('/content/drive/MyDrive/Colab Notebooks/데이콘/fifa/players_15.csv')\n",
        "file16 = pd.read_csv('/content/drive/MyDrive/Colab Notebooks/데이콘/fifa/players_16.csv')\n",
        "file17 = pd.read_csv('/content/drive/MyDrive/Colab Notebooks/데이콘/fifa/players_17.csv')\n",
        "file18 = pd.read_csv('/content/drive/MyDrive/Colab Notebooks/데이콘/fifa/players_18.csv')\n",
        "file19 = pd.read_csv('/content/drive/MyDrive/Colab Notebooks/데이콘/fifa/players_19.csv')\n",
        "file20 = pd.read_csv('/content/drive/MyDrive/Colab Notebooks/데이콘/fifa/players_20.csv')\n",
        "\n",
        "df = pd.concat([file15,file16,file17,file18,file18,file19,file20])\n",
        "df.shape"
      ]
    },
    {
      "cell_type": "code",
      "source": [
        "df.head()"
      ],
      "metadata": {
        "colab": {
          "base_uri": "https://localhost:8080/",
          "height": 508
        },
        "id": "BHMkFeh7aXPi",
        "outputId": "1d8057cd-8b73-4a46-c7de-8ad82e4f3d6a"
      },
      "execution_count": 2,
      "outputs": [
        {
          "output_type": "execute_result",
          "data": {
            "text/plain": [
              "   sofifa_id                                         player_url  \\\n",
              "0     158023  https://sofifa.com/player/158023/lionel-messi/...   \n",
              "1      20801  https://sofifa.com/player/20801/c-ronaldo-dos-...   \n",
              "2       9014  https://sofifa.com/player/9014/arjen-robben/15...   \n",
              "3      41236  https://sofifa.com/player/41236/zlatan-ibrahim...   \n",
              "4     167495  https://sofifa.com/player/167495/manuel-neuer/...   \n",
              "\n",
              "          short_name                            long_name  age         dob  \\\n",
              "0           L. Messi       Lionel Andrés Messi Cuccittini   27  1987-06-24   \n",
              "1  Cristiano Ronaldo  Cristiano Ronaldo dos Santos Aveiro   29  1985-02-05   \n",
              "2          A. Robben                         Arjen Robben   30  1984-01-23   \n",
              "3     Z. Ibrahimović                   Zlatan Ibrahimović   32  1981-10-03   \n",
              "4           M. Neuer                         Manuel Neuer   28  1986-03-27   \n",
              "\n",
              "   height_cm  weight_kg  nationality                 club  ...   lwb   ldm  \\\n",
              "0        169         67    Argentina         FC Barcelona  ...  62+3  62+3   \n",
              "1        185         80     Portugal          Real Madrid  ...  63+3  63+3   \n",
              "2        180         80  Netherlands    FC Bayern München  ...  64+3  64+3   \n",
              "3        195         95       Sweden  Paris Saint-Germain  ...  61+3  65+3   \n",
              "4        193         92      Germany    FC Bayern München  ...   NaN   NaN   \n",
              "\n",
              "    cdm   rdm   rwb    lb   lcb    cb   rcb    rb  \n",
              "0  62+3  62+3  62+3  54+3  45+3  45+3  45+3  54+3  \n",
              "1  63+3  63+3  63+3  57+3  52+3  52+3  52+3  57+3  \n",
              "2  64+3  64+3  64+3  55+3  46+3  46+3  46+3  55+3  \n",
              "3  65+3  65+3  61+3  56+3  55+3  55+3  55+3  56+3  \n",
              "4   NaN   NaN   NaN   NaN   NaN   NaN   NaN   NaN  \n",
              "\n",
              "[5 rows x 104 columns]"
            ],
            "text/html": [
              "\n",
              "  <div id=\"df-962ab651-9d82-4313-8e3d-a7b05792bfd9\">\n",
              "    <div class=\"colab-df-container\">\n",
              "      <div>\n",
              "<style scoped>\n",
              "    .dataframe tbody tr th:only-of-type {\n",
              "        vertical-align: middle;\n",
              "    }\n",
              "\n",
              "    .dataframe tbody tr th {\n",
              "        vertical-align: top;\n",
              "    }\n",
              "\n",
              "    .dataframe thead th {\n",
              "        text-align: right;\n",
              "    }\n",
              "</style>\n",
              "<table border=\"1\" class=\"dataframe\">\n",
              "  <thead>\n",
              "    <tr style=\"text-align: right;\">\n",
              "      <th></th>\n",
              "      <th>sofifa_id</th>\n",
              "      <th>player_url</th>\n",
              "      <th>short_name</th>\n",
              "      <th>long_name</th>\n",
              "      <th>age</th>\n",
              "      <th>dob</th>\n",
              "      <th>height_cm</th>\n",
              "      <th>weight_kg</th>\n",
              "      <th>nationality</th>\n",
              "      <th>club</th>\n",
              "      <th>...</th>\n",
              "      <th>lwb</th>\n",
              "      <th>ldm</th>\n",
              "      <th>cdm</th>\n",
              "      <th>rdm</th>\n",
              "      <th>rwb</th>\n",
              "      <th>lb</th>\n",
              "      <th>lcb</th>\n",
              "      <th>cb</th>\n",
              "      <th>rcb</th>\n",
              "      <th>rb</th>\n",
              "    </tr>\n",
              "  </thead>\n",
              "  <tbody>\n",
              "    <tr>\n",
              "      <th>0</th>\n",
              "      <td>158023</td>\n",
              "      <td>https://sofifa.com/player/158023/lionel-messi/...</td>\n",
              "      <td>L. Messi</td>\n",
              "      <td>Lionel Andrés Messi Cuccittini</td>\n",
              "      <td>27</td>\n",
              "      <td>1987-06-24</td>\n",
              "      <td>169</td>\n",
              "      <td>67</td>\n",
              "      <td>Argentina</td>\n",
              "      <td>FC Barcelona</td>\n",
              "      <td>...</td>\n",
              "      <td>62+3</td>\n",
              "      <td>62+3</td>\n",
              "      <td>62+3</td>\n",
              "      <td>62+3</td>\n",
              "      <td>62+3</td>\n",
              "      <td>54+3</td>\n",
              "      <td>45+3</td>\n",
              "      <td>45+3</td>\n",
              "      <td>45+3</td>\n",
              "      <td>54+3</td>\n",
              "    </tr>\n",
              "    <tr>\n",
              "      <th>1</th>\n",
              "      <td>20801</td>\n",
              "      <td>https://sofifa.com/player/20801/c-ronaldo-dos-...</td>\n",
              "      <td>Cristiano Ronaldo</td>\n",
              "      <td>Cristiano Ronaldo dos Santos Aveiro</td>\n",
              "      <td>29</td>\n",
              "      <td>1985-02-05</td>\n",
              "      <td>185</td>\n",
              "      <td>80</td>\n",
              "      <td>Portugal</td>\n",
              "      <td>Real Madrid</td>\n",
              "      <td>...</td>\n",
              "      <td>63+3</td>\n",
              "      <td>63+3</td>\n",
              "      <td>63+3</td>\n",
              "      <td>63+3</td>\n",
              "      <td>63+3</td>\n",
              "      <td>57+3</td>\n",
              "      <td>52+3</td>\n",
              "      <td>52+3</td>\n",
              "      <td>52+3</td>\n",
              "      <td>57+3</td>\n",
              "    </tr>\n",
              "    <tr>\n",
              "      <th>2</th>\n",
              "      <td>9014</td>\n",
              "      <td>https://sofifa.com/player/9014/arjen-robben/15...</td>\n",
              "      <td>A. Robben</td>\n",
              "      <td>Arjen Robben</td>\n",
              "      <td>30</td>\n",
              "      <td>1984-01-23</td>\n",
              "      <td>180</td>\n",
              "      <td>80</td>\n",
              "      <td>Netherlands</td>\n",
              "      <td>FC Bayern München</td>\n",
              "      <td>...</td>\n",
              "      <td>64+3</td>\n",
              "      <td>64+3</td>\n",
              "      <td>64+3</td>\n",
              "      <td>64+3</td>\n",
              "      <td>64+3</td>\n",
              "      <td>55+3</td>\n",
              "      <td>46+3</td>\n",
              "      <td>46+3</td>\n",
              "      <td>46+3</td>\n",
              "      <td>55+3</td>\n",
              "    </tr>\n",
              "    <tr>\n",
              "      <th>3</th>\n",
              "      <td>41236</td>\n",
              "      <td>https://sofifa.com/player/41236/zlatan-ibrahim...</td>\n",
              "      <td>Z. Ibrahimović</td>\n",
              "      <td>Zlatan Ibrahimović</td>\n",
              "      <td>32</td>\n",
              "      <td>1981-10-03</td>\n",
              "      <td>195</td>\n",
              "      <td>95</td>\n",
              "      <td>Sweden</td>\n",
              "      <td>Paris Saint-Germain</td>\n",
              "      <td>...</td>\n",
              "      <td>61+3</td>\n",
              "      <td>65+3</td>\n",
              "      <td>65+3</td>\n",
              "      <td>65+3</td>\n",
              "      <td>61+3</td>\n",
              "      <td>56+3</td>\n",
              "      <td>55+3</td>\n",
              "      <td>55+3</td>\n",
              "      <td>55+3</td>\n",
              "      <td>56+3</td>\n",
              "    </tr>\n",
              "    <tr>\n",
              "      <th>4</th>\n",
              "      <td>167495</td>\n",
              "      <td>https://sofifa.com/player/167495/manuel-neuer/...</td>\n",
              "      <td>M. Neuer</td>\n",
              "      <td>Manuel Neuer</td>\n",
              "      <td>28</td>\n",
              "      <td>1986-03-27</td>\n",
              "      <td>193</td>\n",
              "      <td>92</td>\n",
              "      <td>Germany</td>\n",
              "      <td>FC Bayern München</td>\n",
              "      <td>...</td>\n",
              "      <td>NaN</td>\n",
              "      <td>NaN</td>\n",
              "      <td>NaN</td>\n",
              "      <td>NaN</td>\n",
              "      <td>NaN</td>\n",
              "      <td>NaN</td>\n",
              "      <td>NaN</td>\n",
              "      <td>NaN</td>\n",
              "      <td>NaN</td>\n",
              "      <td>NaN</td>\n",
              "    </tr>\n",
              "  </tbody>\n",
              "</table>\n",
              "<p>5 rows × 104 columns</p>\n",
              "</div>\n",
              "      <button class=\"colab-df-convert\" onclick=\"convertToInteractive('df-962ab651-9d82-4313-8e3d-a7b05792bfd9')\"\n",
              "              title=\"Convert this dataframe to an interactive table.\"\n",
              "              style=\"display:none;\">\n",
              "        \n",
              "  <svg xmlns=\"http://www.w3.org/2000/svg\" height=\"24px\"viewBox=\"0 0 24 24\"\n",
              "       width=\"24px\">\n",
              "    <path d=\"M0 0h24v24H0V0z\" fill=\"none\"/>\n",
              "    <path d=\"M18.56 5.44l.94 2.06.94-2.06 2.06-.94-2.06-.94-.94-2.06-.94 2.06-2.06.94zm-11 1L8.5 8.5l.94-2.06 2.06-.94-2.06-.94L8.5 2.5l-.94 2.06-2.06.94zm10 10l.94 2.06.94-2.06 2.06-.94-2.06-.94-.94-2.06-.94 2.06-2.06.94z\"/><path d=\"M17.41 7.96l-1.37-1.37c-.4-.4-.92-.59-1.43-.59-.52 0-1.04.2-1.43.59L10.3 9.45l-7.72 7.72c-.78.78-.78 2.05 0 2.83L4 21.41c.39.39.9.59 1.41.59.51 0 1.02-.2 1.41-.59l7.78-7.78 2.81-2.81c.8-.78.8-2.07 0-2.86zM5.41 20L4 18.59l7.72-7.72 1.47 1.35L5.41 20z\"/>\n",
              "  </svg>\n",
              "      </button>\n",
              "      \n",
              "  <style>\n",
              "    .colab-df-container {\n",
              "      display:flex;\n",
              "      flex-wrap:wrap;\n",
              "      gap: 12px;\n",
              "    }\n",
              "\n",
              "    .colab-df-convert {\n",
              "      background-color: #E8F0FE;\n",
              "      border: none;\n",
              "      border-radius: 50%;\n",
              "      cursor: pointer;\n",
              "      display: none;\n",
              "      fill: #1967D2;\n",
              "      height: 32px;\n",
              "      padding: 0 0 0 0;\n",
              "      width: 32px;\n",
              "    }\n",
              "\n",
              "    .colab-df-convert:hover {\n",
              "      background-color: #E2EBFA;\n",
              "      box-shadow: 0px 1px 2px rgba(60, 64, 67, 0.3), 0px 1px 3px 1px rgba(60, 64, 67, 0.15);\n",
              "      fill: #174EA6;\n",
              "    }\n",
              "\n",
              "    [theme=dark] .colab-df-convert {\n",
              "      background-color: #3B4455;\n",
              "      fill: #D2E3FC;\n",
              "    }\n",
              "\n",
              "    [theme=dark] .colab-df-convert:hover {\n",
              "      background-color: #434B5C;\n",
              "      box-shadow: 0px 1px 3px 1px rgba(0, 0, 0, 0.15);\n",
              "      filter: drop-shadow(0px 1px 2px rgba(0, 0, 0, 0.3));\n",
              "      fill: #FFFFFF;\n",
              "    }\n",
              "  </style>\n",
              "\n",
              "      <script>\n",
              "        const buttonEl =\n",
              "          document.querySelector('#df-962ab651-9d82-4313-8e3d-a7b05792bfd9 button.colab-df-convert');\n",
              "        buttonEl.style.display =\n",
              "          google.colab.kernel.accessAllowed ? 'block' : 'none';\n",
              "\n",
              "        async function convertToInteractive(key) {\n",
              "          const element = document.querySelector('#df-962ab651-9d82-4313-8e3d-a7b05792bfd9');\n",
              "          const dataTable =\n",
              "            await google.colab.kernel.invokeFunction('convertToInteractive',\n",
              "                                                     [key], {});\n",
              "          if (!dataTable) return;\n",
              "\n",
              "          const docLinkHtml = 'Like what you see? Visit the ' +\n",
              "            '<a target=\"_blank\" href=https://colab.research.google.com/notebooks/data_table.ipynb>data table notebook</a>'\n",
              "            + ' to learn more about interactive tables.';\n",
              "          element.innerHTML = '';\n",
              "          dataTable['output_type'] = 'display_data';\n",
              "          await google.colab.output.renderOutput(dataTable, element);\n",
              "          const docLink = document.createElement('div');\n",
              "          docLink.innerHTML = docLinkHtml;\n",
              "          element.appendChild(docLink);\n",
              "        }\n",
              "      </script>\n",
              "    </div>\n",
              "  </div>\n",
              "  "
            ]
          },
          "metadata": {},
          "execution_count": 2
        }
      ]
    },
    {
      "cell_type": "markdown",
      "source": [
        "### 2. 전처리 및 탐색적 데이터 분석"
      ],
      "metadata": {
        "id": "xBezhFwGZW-Z"
      }
    },
    {
      "cell_type": "markdown",
      "source": [
        "반응변수인 포지션을 설정합니다. FIFA에서 자체적으로 지정한 team_position 이라는 단일값 feature 값이 있지만,\n",
        "\n",
        "데이터가 난잡하고 현실성이 떨어져 대신 FIFA에서 사용하는 **player_positions** 컬럼의 가장 앞 포지션을 사용하였습니다.\n",
        "\n",
        "player_position 컬럼은 다음과 같이 이루어져 있습니다."
      ],
      "metadata": {
        "id": "Sbr37Nl5aHFb"
      }
    },
    {
      "cell_type": "code",
      "source": [
        "df['player_positions'].head()"
      ],
      "metadata": {
        "colab": {
          "base_uri": "https://localhost:8080/"
        },
        "id": "1beyVETpa87J",
        "outputId": "8d609b3c-d61a-43f1-f93f-74fb0a5f3426"
      },
      "execution_count": 3,
      "outputs": [
        {
          "output_type": "execute_result",
          "data": {
            "text/plain": [
              "0            CF\n",
              "1        LW, LM\n",
              "2    RM, LM, RW\n",
              "3            ST\n",
              "4            GK\n",
              "Name: player_positions, dtype: object"
            ]
          },
          "metadata": {},
          "execution_count": 3
        }
      ]
    },
    {
      "cell_type": "markdown",
      "source": [
        "새로운 feature인 'position'을 생성하고, player_positions 컬럼의 가장 앞 값을 삽입하였습니다."
      ],
      "metadata": {
        "id": "x7uvZ_EVeTTg"
      }
    },
    {
      "cell_type": "code",
      "source": [
        "df['position'] = 0\n",
        "try:\n",
        "  name = df['player_positions'].str.split(\",\")\n",
        "  df['First_Position']= name.str.get(0)\n",
        "except:\n",
        "  df['First_Postion'] = df['player_positions']"
      ],
      "metadata": {
        "id": "PcHc7RFR_VqN"
      },
      "execution_count": 4,
      "outputs": []
    },
    {
      "cell_type": "markdown",
      "source": [
        "정리된 포지션을 각각 골키퍼 0, 수비수 1, 미드필더 2, 공격수 3으로 분류하였습니다."
      ],
      "metadata": {
        "id": "yZqmzagybNTY"
      }
    },
    {
      "cell_type": "code",
      "source": [
        "def position(df):\n",
        "    if df =='GK':\n",
        "        return 0\n",
        "    if df =='CB' or df =='RB' or df =='LB'or df =='LWB' or df =='RWB':\n",
        "        return 1\n",
        "    if df =='CDM' or df =='CM' or df =='LM'or df =='RM' or df =='CAM':\n",
        "        return 2\n",
        "    if df =='ST' or df =='LW' or df =='RW'or df =='CF':\n",
        "        return 3\n",
        "\n",
        "df['position'] = df['First_Position'].apply(position)"
      ],
      "metadata": {
        "id": "XBz393B0bRd7"
      },
      "execution_count": 5,
      "outputs": []
    },
    {
      "cell_type": "markdown",
      "source": [
        "포지션별 선수의 수는 다음과 같습니다.\n",
        "\n",
        "아래의 결과는 실제 축구 경기에서 필요로 하는 선수 구성과 유사한 경향성을 보입니다."
      ],
      "metadata": {
        "id": "3v4n04w3bXy4"
      }
    },
    {
      "cell_type": "code",
      "source": [
        "df['position'].value_counts()"
      ],
      "metadata": {
        "colab": {
          "base_uri": "https://localhost:8080/"
        },
        "id": "7TvXlrWiAA7J",
        "outputId": "a4048b1e-2abe-421b-f0af-e954dcf5481a"
      },
      "execution_count": 6,
      "outputs": [
        {
          "output_type": "execute_result",
          "data": {
            "text/plain": [
              "2    44324\n",
              "1    38407\n",
              "3    22630\n",
              "0    13226\n",
              "Name: position, dtype: int64"
            ]
          },
          "metadata": {},
          "execution_count": 6
        }
      ]
    },
    {
      "cell_type": "markdown",
      "source": [
        "선수의 포지션 별 분류만을 위해, 기본적인 스탯값을 나타내는 feature 33개만 활용하였습니다.\n",
        "\n",
        "또한 포지션별 스탯, 공격/수비/골키퍼 등 일부 스탯만을 활용한 스탯값 평균도 크게 의미가 있지 않을것 같아 제외했습니다."
      ],
      "metadata": {
        "id": "0GSMX4_4bkt1"
      }
    },
    {
      "cell_type": "code",
      "source": [
        "interest = ['attacking_crossing','attacking_finishing',\n",
        "            'attacking_heading_accuracy','attacking_short_passing','attacking_volleys','skill_dribbling',\n",
        "            'skill_curve','skill_fk_accuracy','skill_long_passing','skill_ball_control',\n",
        "            'movement_acceleration','movement_sprint_speed','movement_agility',\n",
        "            'movement_reactions','movement_balance','power_shot_power','power_jumping',\n",
        "            'power_stamina','power_strength','power_long_shots','mentality_aggression',\n",
        "            'mentality_interceptions','mentality_positioning','mentality_vision','mentality_penalties',\n",
        "            'defending_marking','defending_standing_tackle','defending_sliding_tackle',\n",
        "            'goalkeeping_diving','goalkeeping_handling','goalkeeping_kicking',\n",
        "            'goalkeeping_positioning','goalkeeping_reflexes']\n",
        "\n",
        "data = df[interest]\n",
        "y = df['position']\n",
        "data.head()"
      ],
      "metadata": {
        "colab": {
          "base_uri": "https://localhost:8080/",
          "height": 300
        },
        "id": "ijEytk8qBzWw",
        "outputId": "9c3c15ea-20fc-4de3-cf5e-6814ba6dfa6e"
      },
      "execution_count": 7,
      "outputs": [
        {
          "output_type": "execute_result",
          "data": {
            "text/plain": [
              "  attacking_crossing attacking_finishing attacking_heading_accuracy  \\\n",
              "0                 84                94-3                         71   \n",
              "1                 83                95+3                         86   \n",
              "2                 80                85+2                         50   \n",
              "3                 76                  91                         76   \n",
              "4                 25                  25                         25   \n",
              "\n",
              "  attacking_short_passing attacking_volleys skill_dribbling skill_curve  \\\n",
              "0                      89              85-5            96-1        89+2   \n",
              "1                      82              87+2            93+3          88   \n",
              "2                    86+2              86+2              93          85   \n",
              "3                    84-2              92+3              88          80   \n",
              "4                      42                25              25          25   \n",
              "\n",
              "  skill_fk_accuracy skill_long_passing skill_ball_control  ...  \\\n",
              "0              90+4                 76                 96  ...   \n",
              "1                79                 72               92-3  ...   \n",
              "2              83-1               76+3               90+1  ...   \n",
              "3                80               76+4                 90  ...   \n",
              "4                25                 41                 31  ...   \n",
              "\n",
              "  mentality_vision mentality_penalties defending_marking  \\\n",
              "0               90                  76                25   \n",
              "1               81                  85                22   \n",
              "2             84+2                80+1                29   \n",
              "3             83-1                  91                25   \n",
              "4               20                  37                25   \n",
              "\n",
              "  defending_standing_tackle defending_sliding_tackle goalkeeping_diving  \\\n",
              "0                        21                       20                  6   \n",
              "1                        31                       23                  7   \n",
              "2                      26+2                     26+1                 10   \n",
              "3                      41-8                       27                 13   \n",
              "4                        25                       25                 87   \n",
              "\n",
              "  goalkeeping_handling goalkeeping_kicking goalkeeping_positioning  \\\n",
              "0                   11                  15                      14   \n",
              "1                   11                  15                      14   \n",
              "2                    8                  11                       5   \n",
              "3                   15                  10                       9   \n",
              "4                 85+3                  92                    90+6   \n",
              "\n",
              "  goalkeeping_reflexes  \n",
              "0                    8  \n",
              "1                   11  \n",
              "2                   15  \n",
              "3                   12  \n",
              "4                   86  \n",
              "\n",
              "[5 rows x 33 columns]"
            ],
            "text/html": [
              "\n",
              "  <div id=\"df-16a67ab6-ca39-4d07-ba87-82a53e40d3f5\">\n",
              "    <div class=\"colab-df-container\">\n",
              "      <div>\n",
              "<style scoped>\n",
              "    .dataframe tbody tr th:only-of-type {\n",
              "        vertical-align: middle;\n",
              "    }\n",
              "\n",
              "    .dataframe tbody tr th {\n",
              "        vertical-align: top;\n",
              "    }\n",
              "\n",
              "    .dataframe thead th {\n",
              "        text-align: right;\n",
              "    }\n",
              "</style>\n",
              "<table border=\"1\" class=\"dataframe\">\n",
              "  <thead>\n",
              "    <tr style=\"text-align: right;\">\n",
              "      <th></th>\n",
              "      <th>attacking_crossing</th>\n",
              "      <th>attacking_finishing</th>\n",
              "      <th>attacking_heading_accuracy</th>\n",
              "      <th>attacking_short_passing</th>\n",
              "      <th>attacking_volleys</th>\n",
              "      <th>skill_dribbling</th>\n",
              "      <th>skill_curve</th>\n",
              "      <th>skill_fk_accuracy</th>\n",
              "      <th>skill_long_passing</th>\n",
              "      <th>skill_ball_control</th>\n",
              "      <th>...</th>\n",
              "      <th>mentality_vision</th>\n",
              "      <th>mentality_penalties</th>\n",
              "      <th>defending_marking</th>\n",
              "      <th>defending_standing_tackle</th>\n",
              "      <th>defending_sliding_tackle</th>\n",
              "      <th>goalkeeping_diving</th>\n",
              "      <th>goalkeeping_handling</th>\n",
              "      <th>goalkeeping_kicking</th>\n",
              "      <th>goalkeeping_positioning</th>\n",
              "      <th>goalkeeping_reflexes</th>\n",
              "    </tr>\n",
              "  </thead>\n",
              "  <tbody>\n",
              "    <tr>\n",
              "      <th>0</th>\n",
              "      <td>84</td>\n",
              "      <td>94-3</td>\n",
              "      <td>71</td>\n",
              "      <td>89</td>\n",
              "      <td>85-5</td>\n",
              "      <td>96-1</td>\n",
              "      <td>89+2</td>\n",
              "      <td>90+4</td>\n",
              "      <td>76</td>\n",
              "      <td>96</td>\n",
              "      <td>...</td>\n",
              "      <td>90</td>\n",
              "      <td>76</td>\n",
              "      <td>25</td>\n",
              "      <td>21</td>\n",
              "      <td>20</td>\n",
              "      <td>6</td>\n",
              "      <td>11</td>\n",
              "      <td>15</td>\n",
              "      <td>14</td>\n",
              "      <td>8</td>\n",
              "    </tr>\n",
              "    <tr>\n",
              "      <th>1</th>\n",
              "      <td>83</td>\n",
              "      <td>95+3</td>\n",
              "      <td>86</td>\n",
              "      <td>82</td>\n",
              "      <td>87+2</td>\n",
              "      <td>93+3</td>\n",
              "      <td>88</td>\n",
              "      <td>79</td>\n",
              "      <td>72</td>\n",
              "      <td>92-3</td>\n",
              "      <td>...</td>\n",
              "      <td>81</td>\n",
              "      <td>85</td>\n",
              "      <td>22</td>\n",
              "      <td>31</td>\n",
              "      <td>23</td>\n",
              "      <td>7</td>\n",
              "      <td>11</td>\n",
              "      <td>15</td>\n",
              "      <td>14</td>\n",
              "      <td>11</td>\n",
              "    </tr>\n",
              "    <tr>\n",
              "      <th>2</th>\n",
              "      <td>80</td>\n",
              "      <td>85+2</td>\n",
              "      <td>50</td>\n",
              "      <td>86+2</td>\n",
              "      <td>86+2</td>\n",
              "      <td>93</td>\n",
              "      <td>85</td>\n",
              "      <td>83-1</td>\n",
              "      <td>76+3</td>\n",
              "      <td>90+1</td>\n",
              "      <td>...</td>\n",
              "      <td>84+2</td>\n",
              "      <td>80+1</td>\n",
              "      <td>29</td>\n",
              "      <td>26+2</td>\n",
              "      <td>26+1</td>\n",
              "      <td>10</td>\n",
              "      <td>8</td>\n",
              "      <td>11</td>\n",
              "      <td>5</td>\n",
              "      <td>15</td>\n",
              "    </tr>\n",
              "    <tr>\n",
              "      <th>3</th>\n",
              "      <td>76</td>\n",
              "      <td>91</td>\n",
              "      <td>76</td>\n",
              "      <td>84-2</td>\n",
              "      <td>92+3</td>\n",
              "      <td>88</td>\n",
              "      <td>80</td>\n",
              "      <td>80</td>\n",
              "      <td>76+4</td>\n",
              "      <td>90</td>\n",
              "      <td>...</td>\n",
              "      <td>83-1</td>\n",
              "      <td>91</td>\n",
              "      <td>25</td>\n",
              "      <td>41-8</td>\n",
              "      <td>27</td>\n",
              "      <td>13</td>\n",
              "      <td>15</td>\n",
              "      <td>10</td>\n",
              "      <td>9</td>\n",
              "      <td>12</td>\n",
              "    </tr>\n",
              "    <tr>\n",
              "      <th>4</th>\n",
              "      <td>25</td>\n",
              "      <td>25</td>\n",
              "      <td>25</td>\n",
              "      <td>42</td>\n",
              "      <td>25</td>\n",
              "      <td>25</td>\n",
              "      <td>25</td>\n",
              "      <td>25</td>\n",
              "      <td>41</td>\n",
              "      <td>31</td>\n",
              "      <td>...</td>\n",
              "      <td>20</td>\n",
              "      <td>37</td>\n",
              "      <td>25</td>\n",
              "      <td>25</td>\n",
              "      <td>25</td>\n",
              "      <td>87</td>\n",
              "      <td>85+3</td>\n",
              "      <td>92</td>\n",
              "      <td>90+6</td>\n",
              "      <td>86</td>\n",
              "    </tr>\n",
              "  </tbody>\n",
              "</table>\n",
              "<p>5 rows × 33 columns</p>\n",
              "</div>\n",
              "      <button class=\"colab-df-convert\" onclick=\"convertToInteractive('df-16a67ab6-ca39-4d07-ba87-82a53e40d3f5')\"\n",
              "              title=\"Convert this dataframe to an interactive table.\"\n",
              "              style=\"display:none;\">\n",
              "        \n",
              "  <svg xmlns=\"http://www.w3.org/2000/svg\" height=\"24px\"viewBox=\"0 0 24 24\"\n",
              "       width=\"24px\">\n",
              "    <path d=\"M0 0h24v24H0V0z\" fill=\"none\"/>\n",
              "    <path d=\"M18.56 5.44l.94 2.06.94-2.06 2.06-.94-2.06-.94-.94-2.06-.94 2.06-2.06.94zm-11 1L8.5 8.5l.94-2.06 2.06-.94-2.06-.94L8.5 2.5l-.94 2.06-2.06.94zm10 10l.94 2.06.94-2.06 2.06-.94-2.06-.94-.94-2.06-.94 2.06-2.06.94z\"/><path d=\"M17.41 7.96l-1.37-1.37c-.4-.4-.92-.59-1.43-.59-.52 0-1.04.2-1.43.59L10.3 9.45l-7.72 7.72c-.78.78-.78 2.05 0 2.83L4 21.41c.39.39.9.59 1.41.59.51 0 1.02-.2 1.41-.59l7.78-7.78 2.81-2.81c.8-.78.8-2.07 0-2.86zM5.41 20L4 18.59l7.72-7.72 1.47 1.35L5.41 20z\"/>\n",
              "  </svg>\n",
              "      </button>\n",
              "      \n",
              "  <style>\n",
              "    .colab-df-container {\n",
              "      display:flex;\n",
              "      flex-wrap:wrap;\n",
              "      gap: 12px;\n",
              "    }\n",
              "\n",
              "    .colab-df-convert {\n",
              "      background-color: #E8F0FE;\n",
              "      border: none;\n",
              "      border-radius: 50%;\n",
              "      cursor: pointer;\n",
              "      display: none;\n",
              "      fill: #1967D2;\n",
              "      height: 32px;\n",
              "      padding: 0 0 0 0;\n",
              "      width: 32px;\n",
              "    }\n",
              "\n",
              "    .colab-df-convert:hover {\n",
              "      background-color: #E2EBFA;\n",
              "      box-shadow: 0px 1px 2px rgba(60, 64, 67, 0.3), 0px 1px 3px 1px rgba(60, 64, 67, 0.15);\n",
              "      fill: #174EA6;\n",
              "    }\n",
              "\n",
              "    [theme=dark] .colab-df-convert {\n",
              "      background-color: #3B4455;\n",
              "      fill: #D2E3FC;\n",
              "    }\n",
              "\n",
              "    [theme=dark] .colab-df-convert:hover {\n",
              "      background-color: #434B5C;\n",
              "      box-shadow: 0px 1px 3px 1px rgba(0, 0, 0, 0.15);\n",
              "      filter: drop-shadow(0px 1px 2px rgba(0, 0, 0, 0.3));\n",
              "      fill: #FFFFFF;\n",
              "    }\n",
              "  </style>\n",
              "\n",
              "      <script>\n",
              "        const buttonEl =\n",
              "          document.querySelector('#df-16a67ab6-ca39-4d07-ba87-82a53e40d3f5 button.colab-df-convert');\n",
              "        buttonEl.style.display =\n",
              "          google.colab.kernel.accessAllowed ? 'block' : 'none';\n",
              "\n",
              "        async function convertToInteractive(key) {\n",
              "          const element = document.querySelector('#df-16a67ab6-ca39-4d07-ba87-82a53e40d3f5');\n",
              "          const dataTable =\n",
              "            await google.colab.kernel.invokeFunction('convertToInteractive',\n",
              "                                                     [key], {});\n",
              "          if (!dataTable) return;\n",
              "\n",
              "          const docLinkHtml = 'Like what you see? Visit the ' +\n",
              "            '<a target=\"_blank\" href=https://colab.research.google.com/notebooks/data_table.ipynb>data table notebook</a>'\n",
              "            + ' to learn more about interactive tables.';\n",
              "          element.innerHTML = '';\n",
              "          dataTable['output_type'] = 'display_data';\n",
              "          await google.colab.output.renderOutput(dataTable, element);\n",
              "          const docLink = document.createElement('div');\n",
              "          docLink.innerHTML = docLinkHtml;\n",
              "          element.appendChild(docLink);\n",
              "        }\n",
              "      </script>\n",
              "    </div>\n",
              "  </div>\n",
              "  "
            ]
          },
          "metadata": {},
          "execution_count": 7
        }
      ]
    },
    {
      "cell_type": "markdown",
      "source": [
        "일부 선수에게 적용된 94-3, 86+2 등 라이브 부스트(실제 선수의 활약상에 따른 스탯의 조정값)를 제거 후, 수치화 하였습니다.\n"
      ],
      "metadata": {
        "id": "wSux0dEAC2cg"
      }
    },
    {
      "cell_type": "code",
      "source": [
        "\n",
        "for i in range(int(len(data))):\n",
        "  for j in range(int(len(data.columns))):\n",
        "    try:\n",
        "      data.iloc[i,j] = str(data.iloc[i,j]).split('-')[0]\n",
        "      data.iloc[i,j] = str(data.iloc[i,j]).split('+')[0]\n",
        "    except:\n",
        "      pass\n",
        "\n",
        "data = data.apply(pd.to_numeric)"
      ],
      "metadata": {
        "id": "DwZRfPDVRUfa"
      },
      "execution_count": null,
      "outputs": []
    },
    {
      "cell_type": "markdown",
      "source": [
        "---"
      ],
      "metadata": {
        "id": "iNdYPwgpfQtD"
      }
    },
    {
      "cell_type": "markdown",
      "source": [
        "분류 정확도를 높이기 위한 핵심은, 스탯간의 차이를 어떻게 좁히느냐에 있다고 저는 분석했습니다.\n",
        "\n",
        "FIFA 게임은 상위 리그에서 뛰는 선수일수록 높은 스탯을 책정하는 경향이 있고, 이는 실제 선수 및 포지션과는 관련 없는 스탯이 높게 배정될 수도 있다는 사실을 의미합니다.\n",
        "\n",
        "예를 들면, 최상위 리그에서 뛰는 엘링 홀란드 선수의 태클 능력치는 50보다 높게 책정되었지만, 하부 리그에서 뛰는 수비수 선수의 태클 능력치는 30보다 낮게 책정된 경우도 존재합니다.\n",
        "\n",
        "그렇다면 홀란드 선수가 수비수로 분류될 수도 있습니다.\n",
        "\n",
        "이는 분석의 정확도를 떨어뜨리는 문제로 작용할 것입니다.\n"
      ],
      "metadata": {
        "id": "J1PT_c2xcEKw"
      }
    },
    {
      "cell_type": "markdown",
      "source": [
        "이러한 문제를 해결하기 위해, 스탯을 하나의 flow로 만들어 절대적인 값보다, 상대적인 높낮이를 비교하고자 하였습니다.\n",
        "\n",
        "한 선수 안에서의 데이터(row)만을 기준으로 standard scailing 하는 과정을 통해, 데이터는 일종의 경향성을 가지게 될 것입니다.\n",
        "\n",
        "#### **절대적인 값은 낮더라도, 같은 포지션의 선수는 비슷한 경향성을 가지게 되는 것입니다.**"
      ],
      "metadata": {
        "id": "ODhXNn-tfiGw"
      }
    },
    {
      "cell_type": "markdown",
      "source": [
        "결과적으로 다음과 같은 상황을 얻고자 하였습니다.\n",
        "\n",
        "예 - 메시 선수와 하부리그 공격수는 모두 수비스탯 값보다 공격스탯 값이 상대적으로 높아야 합니다.\n",
        "\n",
        "예 - 테어 슈테겐 선수와과 하부리그 골키퍼는 모두 공격스탯 값보다 골키퍼 스탯이 상대적으로 높을 것으로 예상됩니다."
      ],
      "metadata": {
        "id": "_zpQKJLRflqS"
      }
    },
    {
      "cell_type": "markdown",
      "source": [
        "---"
      ],
      "metadata": {
        "id": "n53T3ZZWfU13"
      }
    },
    {
      "cell_type": "markdown",
      "source": [
        "다음과 같이 standard scailing을 진행하고, 최종적으로 분석에 사용할 독립변수를 확정하였습니다."
      ],
      "metadata": {
        "id": "I8Aj9DbOdND4"
      }
    },
    {
      "cell_type": "code",
      "source": [
        "for i in range(int(len(data))): \n",
        "  mean = data.iloc[i,].mean()\n",
        "  std = data.iloc[i,].std()\n",
        "  for j in range(int(len(data.columns))):\n",
        "    data.iloc[i,j] = (data.iloc[i,j] - mean)/std"
      ],
      "metadata": {
        "id": "BRgRn24u_p5N"
      },
      "execution_count": null,
      "outputs": []
    },
    {
      "cell_type": "code",
      "source": [
        "data.head()"
      ],
      "metadata": {
        "colab": {
          "base_uri": "https://localhost:8080/",
          "height": 300
        },
        "id": "Svehq_6-TvWX",
        "outputId": "a14c9640-50cb-421b-a3b6-115311a60f4b"
      },
      "execution_count": 16,
      "outputs": [
        {
          "output_type": "execute_result",
          "data": {
            "text/plain": [
              "   attacking_crossing  attacking_finishing  attacking_heading_accuracy  \\\n",
              "0            0.560019             0.864477                    0.164223   \n",
              "1            0.495762             0.870422                    0.589427   \n",
              "2            0.507486             0.669137                   -0.462419   \n",
              "3            0.372483             0.868127                    0.372483   \n",
              "4           -0.812365            -0.812365                   -0.812365   \n",
              "\n",
              "   attacking_short_passing  attacking_volleys  skill_dribbling  skill_curve  \\\n",
              "0                 0.712248           0.590465         0.925369     0.712248   \n",
              "1                 0.464540           0.620649         0.807979     0.651870   \n",
              "2                 0.701467           0.701467         0.927778     0.669137   \n",
              "3                 0.636826           0.901169         0.768998     0.504655   \n",
              "4                -0.140187          -0.812365        -0.812365    -0.812365   \n",
              "\n",
              "   skill_fk_accuracy  skill_long_passing  skill_ball_control  ...  \\\n",
              "0           0.742694            0.316452            0.925369  ...   \n",
              "1           0.370875            0.152324            0.776757  ...   \n",
              "2           0.604476            0.378165            0.830788  ...   \n",
              "3           0.504655            0.372483            0.835084  ...   \n",
              "4          -0.812365           -0.179727           -0.575126  ...   \n",
              "\n",
              "   mentality_vision  mentality_penalties  defending_marking  \\\n",
              "0          0.742694             0.316452          -1.236285   \n",
              "1          0.433319             0.558205          -1.408759   \n",
              "2          0.636807             0.507486          -1.141353   \n",
              "3          0.603783             0.868127          -1.312703   \n",
              "4         -1.010064            -0.337886          -0.812365   \n",
              "\n",
              "   defending_standing_tackle  defending_sliding_tackle  goalkeeping_diving  \\\n",
              "0                  -1.358068                 -1.388514           -1.814756   \n",
              "1                  -1.127764                 -1.377537           -1.877084   \n",
              "2                  -1.238344                 -1.238344           -1.755627   \n",
              "3                  -0.784017                 -1.246618           -1.709218   \n",
              "4                  -0.812365                 -0.812365            1.639108   \n",
              "\n",
              "   goalkeeping_handling  goalkeeping_kicking  goalkeeping_positioning  \\\n",
              "0             -1.662527            -1.540743                -1.571189   \n",
              "1             -1.752197            -1.627311                -1.658532   \n",
              "2             -1.820287            -1.723296                -1.917277   \n",
              "3             -1.643132            -1.808347                -1.841389   \n",
              "4              1.560028             1.836807                 1.757727   \n",
              "\n",
              "   goalkeeping_reflexes  \n",
              "0             -1.753864  \n",
              "1             -1.752197  \n",
              "2             -1.593976  \n",
              "3             -1.742261  \n",
              "4              1.599568  \n",
              "\n",
              "[5 rows x 33 columns]"
            ],
            "text/html": [
              "\n",
              "  <div id=\"df-aa530aa9-193f-4713-835d-abcb18767850\">\n",
              "    <div class=\"colab-df-container\">\n",
              "      <div>\n",
              "<style scoped>\n",
              "    .dataframe tbody tr th:only-of-type {\n",
              "        vertical-align: middle;\n",
              "    }\n",
              "\n",
              "    .dataframe tbody tr th {\n",
              "        vertical-align: top;\n",
              "    }\n",
              "\n",
              "    .dataframe thead th {\n",
              "        text-align: right;\n",
              "    }\n",
              "</style>\n",
              "<table border=\"1\" class=\"dataframe\">\n",
              "  <thead>\n",
              "    <tr style=\"text-align: right;\">\n",
              "      <th></th>\n",
              "      <th>attacking_crossing</th>\n",
              "      <th>attacking_finishing</th>\n",
              "      <th>attacking_heading_accuracy</th>\n",
              "      <th>attacking_short_passing</th>\n",
              "      <th>attacking_volleys</th>\n",
              "      <th>skill_dribbling</th>\n",
              "      <th>skill_curve</th>\n",
              "      <th>skill_fk_accuracy</th>\n",
              "      <th>skill_long_passing</th>\n",
              "      <th>skill_ball_control</th>\n",
              "      <th>...</th>\n",
              "      <th>mentality_vision</th>\n",
              "      <th>mentality_penalties</th>\n",
              "      <th>defending_marking</th>\n",
              "      <th>defending_standing_tackle</th>\n",
              "      <th>defending_sliding_tackle</th>\n",
              "      <th>goalkeeping_diving</th>\n",
              "      <th>goalkeeping_handling</th>\n",
              "      <th>goalkeeping_kicking</th>\n",
              "      <th>goalkeeping_positioning</th>\n",
              "      <th>goalkeeping_reflexes</th>\n",
              "    </tr>\n",
              "  </thead>\n",
              "  <tbody>\n",
              "    <tr>\n",
              "      <th>0</th>\n",
              "      <td>0.560019</td>\n",
              "      <td>0.864477</td>\n",
              "      <td>0.164223</td>\n",
              "      <td>0.712248</td>\n",
              "      <td>0.590465</td>\n",
              "      <td>0.925369</td>\n",
              "      <td>0.712248</td>\n",
              "      <td>0.742694</td>\n",
              "      <td>0.316452</td>\n",
              "      <td>0.925369</td>\n",
              "      <td>...</td>\n",
              "      <td>0.742694</td>\n",
              "      <td>0.316452</td>\n",
              "      <td>-1.236285</td>\n",
              "      <td>-1.358068</td>\n",
              "      <td>-1.388514</td>\n",
              "      <td>-1.814756</td>\n",
              "      <td>-1.662527</td>\n",
              "      <td>-1.540743</td>\n",
              "      <td>-1.571189</td>\n",
              "      <td>-1.753864</td>\n",
              "    </tr>\n",
              "    <tr>\n",
              "      <th>1</th>\n",
              "      <td>0.495762</td>\n",
              "      <td>0.870422</td>\n",
              "      <td>0.589427</td>\n",
              "      <td>0.464540</td>\n",
              "      <td>0.620649</td>\n",
              "      <td>0.807979</td>\n",
              "      <td>0.651870</td>\n",
              "      <td>0.370875</td>\n",
              "      <td>0.152324</td>\n",
              "      <td>0.776757</td>\n",
              "      <td>...</td>\n",
              "      <td>0.433319</td>\n",
              "      <td>0.558205</td>\n",
              "      <td>-1.408759</td>\n",
              "      <td>-1.127764</td>\n",
              "      <td>-1.377537</td>\n",
              "      <td>-1.877084</td>\n",
              "      <td>-1.752197</td>\n",
              "      <td>-1.627311</td>\n",
              "      <td>-1.658532</td>\n",
              "      <td>-1.752197</td>\n",
              "    </tr>\n",
              "    <tr>\n",
              "      <th>2</th>\n",
              "      <td>0.507486</td>\n",
              "      <td>0.669137</td>\n",
              "      <td>-0.462419</td>\n",
              "      <td>0.701467</td>\n",
              "      <td>0.701467</td>\n",
              "      <td>0.927778</td>\n",
              "      <td>0.669137</td>\n",
              "      <td>0.604476</td>\n",
              "      <td>0.378165</td>\n",
              "      <td>0.830788</td>\n",
              "      <td>...</td>\n",
              "      <td>0.636807</td>\n",
              "      <td>0.507486</td>\n",
              "      <td>-1.141353</td>\n",
              "      <td>-1.238344</td>\n",
              "      <td>-1.238344</td>\n",
              "      <td>-1.755627</td>\n",
              "      <td>-1.820287</td>\n",
              "      <td>-1.723296</td>\n",
              "      <td>-1.917277</td>\n",
              "      <td>-1.593976</td>\n",
              "    </tr>\n",
              "    <tr>\n",
              "      <th>3</th>\n",
              "      <td>0.372483</td>\n",
              "      <td>0.868127</td>\n",
              "      <td>0.372483</td>\n",
              "      <td>0.636826</td>\n",
              "      <td>0.901169</td>\n",
              "      <td>0.768998</td>\n",
              "      <td>0.504655</td>\n",
              "      <td>0.504655</td>\n",
              "      <td>0.372483</td>\n",
              "      <td>0.835084</td>\n",
              "      <td>...</td>\n",
              "      <td>0.603783</td>\n",
              "      <td>0.868127</td>\n",
              "      <td>-1.312703</td>\n",
              "      <td>-0.784017</td>\n",
              "      <td>-1.246618</td>\n",
              "      <td>-1.709218</td>\n",
              "      <td>-1.643132</td>\n",
              "      <td>-1.808347</td>\n",
              "      <td>-1.841389</td>\n",
              "      <td>-1.742261</td>\n",
              "    </tr>\n",
              "    <tr>\n",
              "      <th>4</th>\n",
              "      <td>-0.812365</td>\n",
              "      <td>-0.812365</td>\n",
              "      <td>-0.812365</td>\n",
              "      <td>-0.140187</td>\n",
              "      <td>-0.812365</td>\n",
              "      <td>-0.812365</td>\n",
              "      <td>-0.812365</td>\n",
              "      <td>-0.812365</td>\n",
              "      <td>-0.179727</td>\n",
              "      <td>-0.575126</td>\n",
              "      <td>...</td>\n",
              "      <td>-1.010064</td>\n",
              "      <td>-0.337886</td>\n",
              "      <td>-0.812365</td>\n",
              "      <td>-0.812365</td>\n",
              "      <td>-0.812365</td>\n",
              "      <td>1.639108</td>\n",
              "      <td>1.560028</td>\n",
              "      <td>1.836807</td>\n",
              "      <td>1.757727</td>\n",
              "      <td>1.599568</td>\n",
              "    </tr>\n",
              "  </tbody>\n",
              "</table>\n",
              "<p>5 rows × 33 columns</p>\n",
              "</div>\n",
              "      <button class=\"colab-df-convert\" onclick=\"convertToInteractive('df-aa530aa9-193f-4713-835d-abcb18767850')\"\n",
              "              title=\"Convert this dataframe to an interactive table.\"\n",
              "              style=\"display:none;\">\n",
              "        \n",
              "  <svg xmlns=\"http://www.w3.org/2000/svg\" height=\"24px\"viewBox=\"0 0 24 24\"\n",
              "       width=\"24px\">\n",
              "    <path d=\"M0 0h24v24H0V0z\" fill=\"none\"/>\n",
              "    <path d=\"M18.56 5.44l.94 2.06.94-2.06 2.06-.94-2.06-.94-.94-2.06-.94 2.06-2.06.94zm-11 1L8.5 8.5l.94-2.06 2.06-.94-2.06-.94L8.5 2.5l-.94 2.06-2.06.94zm10 10l.94 2.06.94-2.06 2.06-.94-2.06-.94-.94-2.06-.94 2.06-2.06.94z\"/><path d=\"M17.41 7.96l-1.37-1.37c-.4-.4-.92-.59-1.43-.59-.52 0-1.04.2-1.43.59L10.3 9.45l-7.72 7.72c-.78.78-.78 2.05 0 2.83L4 21.41c.39.39.9.59 1.41.59.51 0 1.02-.2 1.41-.59l7.78-7.78 2.81-2.81c.8-.78.8-2.07 0-2.86zM5.41 20L4 18.59l7.72-7.72 1.47 1.35L5.41 20z\"/>\n",
              "  </svg>\n",
              "      </button>\n",
              "      \n",
              "  <style>\n",
              "    .colab-df-container {\n",
              "      display:flex;\n",
              "      flex-wrap:wrap;\n",
              "      gap: 12px;\n",
              "    }\n",
              "\n",
              "    .colab-df-convert {\n",
              "      background-color: #E8F0FE;\n",
              "      border: none;\n",
              "      border-radius: 50%;\n",
              "      cursor: pointer;\n",
              "      display: none;\n",
              "      fill: #1967D2;\n",
              "      height: 32px;\n",
              "      padding: 0 0 0 0;\n",
              "      width: 32px;\n",
              "    }\n",
              "\n",
              "    .colab-df-convert:hover {\n",
              "      background-color: #E2EBFA;\n",
              "      box-shadow: 0px 1px 2px rgba(60, 64, 67, 0.3), 0px 1px 3px 1px rgba(60, 64, 67, 0.15);\n",
              "      fill: #174EA6;\n",
              "    }\n",
              "\n",
              "    [theme=dark] .colab-df-convert {\n",
              "      background-color: #3B4455;\n",
              "      fill: #D2E3FC;\n",
              "    }\n",
              "\n",
              "    [theme=dark] .colab-df-convert:hover {\n",
              "      background-color: #434B5C;\n",
              "      box-shadow: 0px 1px 3px 1px rgba(0, 0, 0, 0.15);\n",
              "      filter: drop-shadow(0px 1px 2px rgba(0, 0, 0, 0.3));\n",
              "      fill: #FFFFFF;\n",
              "    }\n",
              "  </style>\n",
              "\n",
              "      <script>\n",
              "        const buttonEl =\n",
              "          document.querySelector('#df-aa530aa9-193f-4713-835d-abcb18767850 button.colab-df-convert');\n",
              "        buttonEl.style.display =\n",
              "          google.colab.kernel.accessAllowed ? 'block' : 'none';\n",
              "\n",
              "        async function convertToInteractive(key) {\n",
              "          const element = document.querySelector('#df-aa530aa9-193f-4713-835d-abcb18767850');\n",
              "          const dataTable =\n",
              "            await google.colab.kernel.invokeFunction('convertToInteractive',\n",
              "                                                     [key], {});\n",
              "          if (!dataTable) return;\n",
              "\n",
              "          const docLinkHtml = 'Like what you see? Visit the ' +\n",
              "            '<a target=\"_blank\" href=https://colab.research.google.com/notebooks/data_table.ipynb>data table notebook</a>'\n",
              "            + ' to learn more about interactive tables.';\n",
              "          element.innerHTML = '';\n",
              "          dataTable['output_type'] = 'display_data';\n",
              "          await google.colab.output.renderOutput(dataTable, element);\n",
              "          const docLink = document.createElement('div');\n",
              "          docLink.innerHTML = docLinkHtml;\n",
              "          element.appendChild(docLink);\n",
              "        }\n",
              "      </script>\n",
              "    </div>\n",
              "  </div>\n",
              "  "
            ]
          },
          "metadata": {},
          "execution_count": 16
        }
      ]
    },
    {
      "cell_type": "markdown",
      "source": [
        "### 3. 머신러닝 및 모델링\n",
        "\n",
        "연속형 데이터를 활용한 분류 문제이므로, RandomForest와 XGBoost를 활용하려 합니다."
      ],
      "metadata": {
        "id": "WPRVuP97H54e"
      }
    },
    {
      "cell_type": "markdown",
      "source": [
        "머신러닝을 위해, 데이터를 분할합니다.\n",
        "\n",
        "데이터의 수가 약 12만개 이므로, test size 비중을 낮추고 position 기준으로 균등하게 분할합니다.\n",
        "\n"
      ],
      "metadata": {
        "id": "tPFL6UCzdr_k"
      }
    },
    {
      "cell_type": "code",
      "source": [
        "from sklearn.model_selection import train_test_split\n",
        "pre_X_train, X_test, pre_y_train, y_test = train_test_split(data, y, test_size=0.2, stratify=y)\n",
        "\n",
        "X_train, X_valid, y_train, y_valid = train_test_split(pre_X_train, pre_y_train, test_size=0.2, stratify=pre_y_train)\n",
        "\n",
        "display(X_train.shape)\n",
        "display(X_valid.shape)\n",
        "display(X_test.shape)"
      ],
      "metadata": {
        "id": "mXYfS_MqClC-",
        "colab": {
          "base_uri": "https://localhost:8080/",
          "height": 69
        },
        "outputId": "389eaaee-177b-4100-ba16-508e9c963220"
      },
      "execution_count": 9,
      "outputs": [
        {
          "output_type": "display_data",
          "data": {
            "text/plain": [
              "(75895, 33)"
            ]
          },
          "metadata": {}
        },
        {
          "output_type": "display_data",
          "data": {
            "text/plain": [
              "(18974, 33)"
            ]
          },
          "metadata": {}
        },
        {
          "output_type": "display_data",
          "data": {
            "text/plain": [
              "(23718, 33)"
            ]
          },
          "metadata": {}
        }
      ]
    },
    {
      "cell_type": "markdown",
      "source": [
        "RandomForest를 활용한 결과입니다."
      ],
      "metadata": {
        "id": "xot_WhPyeHYv"
      }
    },
    {
      "cell_type": "code",
      "source": [
        "from sklearn.metrics import classification_report\n",
        "from sklearn.ensemble import RandomForestClassifier\n",
        "from sklearn.metrics import confusion_matrix\n",
        "\n",
        "model = RandomForestClassifier()\n",
        "model.fit(pre_X_train, pre_y_train)\n",
        "pred = model.predict(X_test)\n",
        "\n",
        "print(classification_report(y_test, pred))\n",
        "print()\n",
        "print(confusion_matrix(y_test, pred))"
      ],
      "metadata": {
        "colab": {
          "base_uri": "https://localhost:8080/"
        },
        "id": "ln_n-TPl5fTo",
        "outputId": "eaf96139-d220-45c2-c1cf-94a2d4db29de"
      },
      "execution_count": 10,
      "outputs": [
        {
          "output_type": "stream",
          "name": "stdout",
          "text": [
            "              precision    recall  f1-score   support\n",
            "\n",
            "           0       1.00      1.00      1.00      2645\n",
            "           1       0.96      0.97      0.97      7682\n",
            "           2       0.92      0.94      0.93      8865\n",
            "           3       0.93      0.88      0.91      4526\n",
            "\n",
            "    accuracy                           0.94     23718\n",
            "   macro avg       0.95      0.95      0.95     23718\n",
            "weighted avg       0.94      0.94      0.94     23718\n",
            "\n",
            "\n",
            "[[2645    0    0    0]\n",
            " [   0 7436  245    1]\n",
            " [   0  270 8295  300]\n",
            " [   0   10  522 3994]]\n"
          ]
        }
      ]
    },
    {
      "cell_type": "markdown",
      "source": [
        "RandomForest의 분류가 어떤 feature를 중심으로 이루어졌는지 시각화하면, 다음과 같습니다.\n",
        "\n",
        "가장 분류에서 많이 활용된 스탯으로는 주로 각 포지션에 특화된 스탯들이 뽑혔습니다.\n",
        "\n",
        "반면, 중립적인 스탯들(스태미너, 멘탈리티 등)은 활용도가 비교적 낮았습니다."
      ],
      "metadata": {
        "id": "ZjKzsn4t6aMK"
      }
    },
    {
      "cell_type": "code",
      "source": [
        "import numpy as np\n",
        "import matplotlib.pyplot as plt\n",
        "\n",
        "importances = model.feature_importances_\n",
        "indices = np.argsort(importances)[::-1]\n",
        "\n",
        "print(\"변수 중요도(randomforest)\")\n",
        "for f in range(data.shape[1]):\n",
        "    print(\"{}. feature {} ({:.3f})\".format(f + 1, data.columns[indices][f], importances[indices[f]]))\n",
        "print()\n",
        "\n",
        "plt.figure()\n",
        "plt.bar(range(data.shape[1]), importances[indices],\n",
        "        color=\"r\",align=\"center\")\n",
        "plt.xticks(range(data.shape[1]), data.columns[indices], rotation=90)\n",
        "plt.show()"
      ],
      "metadata": {
        "colab": {
          "base_uri": "https://localhost:8080/",
          "height": 1000
        },
        "id": "X1-9VDtR6Ztj",
        "outputId": "cc11c29d-addc-4518-d385-e284a2d6cd2e"
      },
      "execution_count": 11,
      "outputs": [
        {
          "output_type": "stream",
          "name": "stdout",
          "text": [
            "변수 중요도(randomforest)\n",
            "1. feature defending_sliding_tackle (0.109)\n",
            "2. feature defending_marking (0.066)\n",
            "3. feature attacking_finishing (0.063)\n",
            "4. feature defending_standing_tackle (0.061)\n",
            "5. feature mentality_interceptions (0.056)\n",
            "6. feature skill_long_passing (0.054)\n",
            "7. feature goalkeeping_handling (0.049)\n",
            "8. feature mentality_vision (0.044)\n",
            "9. feature goalkeeping_positioning (0.041)\n",
            "10. feature attacking_crossing (0.039)\n",
            "11. feature attacking_heading_accuracy (0.038)\n",
            "12. feature goalkeeping_diving (0.037)\n",
            "13. feature attacking_short_passing (0.036)\n",
            "14. feature goalkeeping_reflexes (0.035)\n",
            "15. feature power_long_shots (0.030)\n",
            "16. feature skill_dribbling (0.029)\n",
            "17. feature goalkeeping_kicking (0.026)\n",
            "18. feature skill_ball_control (0.023)\n",
            "19. feature mentality_positioning (0.020)\n",
            "20. feature attacking_volleys (0.018)\n",
            "21. feature mentality_penalties (0.014)\n",
            "22. feature movement_reactions (0.013)\n",
            "23. feature power_strength (0.011)\n",
            "24. feature movement_sprint_speed (0.011)\n",
            "25. feature skill_curve (0.010)\n",
            "26. feature skill_fk_accuracy (0.010)\n",
            "27. feature mentality_aggression (0.010)\n",
            "28. feature movement_acceleration (0.009)\n",
            "29. feature power_shot_power (0.009)\n",
            "30. feature power_jumping (0.008)\n",
            "31. feature power_stamina (0.008)\n",
            "32. feature movement_balance (0.008)\n",
            "33. feature movement_agility (0.007)\n",
            "\n"
          ]
        },
        {
          "output_type": "display_data",
          "data": {
            "text/plain": [
              "<Figure size 432x288 with 1 Axes>"
            ],
            "image/png": "[encoded data removed]"
          },
          "metadata": {
            "needs_background": "light"
          }
        }
      ]
    },
    {
      "cell_type": "markdown",
      "source": [
        "아래는 randomforest 대신 xgboost를 활용한 결과입니다."
      ],
      "metadata": {
        "id": "LbgKzNuaeWNC"
      }
    },
    {
      "cell_type": "code",
      "source": [
        "import xgboost\n",
        "from xgboost import XGBClassifier as xg\n",
        "\n",
        "model = xg()\n",
        "model.fit(pre_X_train, pre_y_train)\n",
        "pred = model.predict(X_test)\n",
        "\n",
        "print(classification_report(y_test, pred))\n",
        "print()\n",
        "print(confusion_matrix(y_test, pred))"
      ],
      "metadata": {
        "colab": {
          "base_uri": "https://localhost:8080/"
        },
        "id": "6IKuo2GIvVMc",
        "outputId": "218fd291-6fc7-4ca5-a903-71b4735cab75"
      },
      "execution_count": 12,
      "outputs": [
        {
          "output_type": "stream",
          "name": "stdout",
          "text": [
            "              precision    recall  f1-score   support\n",
            "\n",
            "           0       1.00      1.00      1.00      2645\n",
            "           1       0.94      0.94      0.94      7682\n",
            "           2       0.87      0.89      0.88      8865\n",
            "           3       0.87      0.82      0.85      4526\n",
            "\n",
            "    accuracy                           0.91     23718\n",
            "   macro avg       0.92      0.91      0.92     23718\n",
            "weighted avg       0.91      0.91      0.91     23718\n",
            "\n",
            "\n",
            "[[2645    0    0    0]\n",
            " [   0 7259  422    1]\n",
            " [   0  442 7894  529]\n",
            " [   0   16  807 3703]]\n"
          ]
        }
      ]
    },
    {
      "cell_type": "markdown",
      "source": [
        "xgboost로 구성한 모델에, validation set을 대상으로 하이퍼 파라미터 튜닝을 진행합니다.\n",
        "\n",
        "하이퍼 파라미터 튜닝 기법으로는 베이지안 옵티마이저를 선택하였습니다."
      ],
      "metadata": {
        "id": "6Kdfz4jTeqAl"
      }
    },
    {
      "cell_type": "code",
      "source": [
        "!pip install bayesian-optimization\n",
        "from bayes_opt import BayesianOptimization as bo\n",
        "\n",
        "\n",
        "def hyper_param(lr,ct,rl,md,gam,al,skt,mc,cbl,cbn,bs):\n",
        "    model = xg(learning_rate = lr, colsample_bytree=ct,\n",
        "          reg_lambda=rl, max_depth=int(md), gamma=int(gam), reg_alpha=al, sketch_eps=skt,\n",
        "          min_child_weight= mc, colsample_bylevel= cbl, colsample_bynode=cbn, base_score= bs)\n",
        "    model.fit(X_train, y_train)\n",
        "    return model.score(X_valid, y_valid)\n",
        "\n",
        "epsilon = 0.1 ** 30\n",
        "\n",
        "float_range = (epsilon, 1- epsilon)\n",
        "int_range = (1,32)\n",
        "\n",
        "pbound = {'lr': float_range, 'ct':float_range, 'rl':float_range, 'md':int_range, 'gam': int_range, \n",
        "          'al':float_range, 'skt':float_range, 'mc': int_range, 'cbl': float_range, 'cbn': float_range, 'bs':float_range}\n",
        "\n",
        "optimizer = bo(f=hyper_param, pbounds=pbound)\n",
        "optimizer.maximize(acq='poi',n_iter=20)\n",
        "\n",
        "optimizer.max"
      ],
      "metadata": {
        "colab": {
          "base_uri": "https://localhost:8080/"
        },
        "id": "cQSolKidvb0D",
        "outputId": "6e3e7b9b-0d13-4d20-8917-13f12d43c524"
      },
      "execution_count": 13,
      "outputs": [
        {
          "output_type": "stream",
          "name": "stdout",
          "text": [
            "Looking in indexes: https://pypi.org/simple, https://us-python.pkg.dev/colab-wheels/public/simple/\n",
            "Collecting bayesian-optimization\n",
            "  Downloading bayesian-optimization-1.2.0.tar.gz (14 kB)\n",
            "Requirement already satisfied: numpy>=1.9.0 in /usr/local/lib/python3.7/dist-packages (from bayesian-optimization) (1.21.6)\n",
            "Requirement already satisfied: scipy>=0.14.0 in /usr/local/lib/python3.7/dist-packages (from bayesian-optimization) (1.7.3)\n",
            "Requirement already satisfied: scikit-learn>=0.18.0 in /usr/local/lib/python3.7/dist-packages (from bayesian-optimization) (1.0.2)\n",
            "Requirement already satisfied: threadpoolctl>=2.0.0 in /usr/local/lib/python3.7/dist-packages (from scikit-learn>=0.18.0->bayesian-optimization) (3.1.0)\n",
            "Requirement already satisfied: joblib>=0.11 in /usr/local/lib/python3.7/dist-packages (from scikit-learn>=0.18.0->bayesian-optimization) (1.1.0)\n",
            "Building wheels for collected packages: bayesian-optimization\n",
            "  Building wheel for bayesian-optimization (setup.py) ... \u001b[?25l\u001b[?25hdone\n",
            "  Created wheel for bayesian-optimization: filename=bayesian_optimization-1.2.0-py3-none-any.whl size=11685 sha256=80788c7c879cb6a8f3eeb7f6d8e2ddd548e7bd34e2c1f0763ecec882cdfcf011\n",
            "  Stored in directory: /root/.cache/pip/wheels/fd/9b/71/f127d694e02eb40bcf18c7ae9613b88a6be4470f57a8528c5b\n",
            "Successfully built bayesian-optimization\n",
            "Installing collected packages: bayesian-optimization\n",
            "Successfully installed bayesian-optimization-1.2.0\n",
            "|   iter    |  target   |    al     |    bs     |    cbl    |    cbn    |    ct     |    gam    |    lr     |    mc     |    md     |    rl     |    skt    |\n",
            "-------------------------------------------------------------------------------------------------------------------------------------------------------------\n",
            "| \u001b[0m 1       \u001b[0m | \u001b[0m 0.9045  \u001b[0m | \u001b[0m 0.6185  \u001b[0m | \u001b[0m 0.9557  \u001b[0m | \u001b[0m 0.6136  \u001b[0m | \u001b[0m 0.5451  \u001b[0m | \u001b[0m 0.4848  \u001b[0m | \u001b[0m 19.81   \u001b[0m | \u001b[0m 0.4254  \u001b[0m | \u001b[0m 25.55   \u001b[0m | \u001b[0m 4.554   \u001b[0m | \u001b[0m 0.3554  \u001b[0m | \u001b[0m 0.6846  \u001b[0m |\n",
            "| \u001b[95m 2       \u001b[0m | \u001b[95m 0.9062  \u001b[0m | \u001b[95m 0.09591 \u001b[0m | \u001b[95m 0.6537  \u001b[0m | \u001b[95m 0.8484  \u001b[0m | \u001b[95m 0.08042 \u001b[0m | \u001b[95m 0.5962  \u001b[0m | \u001b[95m 15.12   \u001b[0m | \u001b[95m 0.7817  \u001b[0m | \u001b[95m 16.6    \u001b[0m | \u001b[95m 26.85   \u001b[0m | \u001b[95m 0.3114  \u001b[0m | \u001b[95m 0.1419  \u001b[0m |\n",
            "| \u001b[0m 3       \u001b[0m | \u001b[0m 0.9007  \u001b[0m | \u001b[0m 0.1386  \u001b[0m | \u001b[0m 0.1796  \u001b[0m | \u001b[0m 0.3546  \u001b[0m | \u001b[0m 0.4834  \u001b[0m | \u001b[0m 0.8034  \u001b[0m | \u001b[0m 23.95   \u001b[0m | \u001b[0m 0.9623  \u001b[0m | \u001b[0m 12.11   \u001b[0m | \u001b[0m 4.924   \u001b[0m | \u001b[0m 0.6748  \u001b[0m | \u001b[0m 0.5379  \u001b[0m |\n",
            "| \u001b[95m 4       \u001b[0m | \u001b[95m 0.9292  \u001b[0m | \u001b[95m 0.1974  \u001b[0m | \u001b[95m 0.9875  \u001b[0m | \u001b[95m 0.2948  \u001b[0m | \u001b[95m 0.02756 \u001b[0m | \u001b[95m 0.9256  \u001b[0m | \u001b[95m 1.152   \u001b[0m | \u001b[95m 0.6686  \u001b[0m | \u001b[95m 2.939   \u001b[0m | \u001b[95m 26.82   \u001b[0m | \u001b[95m 0.01129 \u001b[0m | \u001b[95m 0.5229  \u001b[0m |\n",
            "| \u001b[0m 5       \u001b[0m | \u001b[0m 0.9058  \u001b[0m | \u001b[0m 0.3919  \u001b[0m | \u001b[0m 0.8098  \u001b[0m | \u001b[0m 0.19    \u001b[0m | \u001b[0m 0.5528  \u001b[0m | \u001b[0m 0.4318  \u001b[0m | \u001b[0m 24.6    \u001b[0m | \u001b[0m 0.3701  \u001b[0m | \u001b[0m 15.43   \u001b[0m | \u001b[0m 27.27   \u001b[0m | \u001b[0m 0.2266  \u001b[0m | \u001b[0m 0.6326  \u001b[0m |\n",
            "| \u001b[95m 6       \u001b[0m | \u001b[95m 0.9338  \u001b[0m | \u001b[95m 0.9504  \u001b[0m | \u001b[95m 0.2128  \u001b[0m | \u001b[95m 0.7016  \u001b[0m | \u001b[95m 0.8932  \u001b[0m | \u001b[95m 0.4538  \u001b[0m | \u001b[95m 1.007   \u001b[0m | \u001b[95m 0.4465  \u001b[0m | \u001b[95m 3.126   \u001b[0m | \u001b[95m 26.2    \u001b[0m | \u001b[95m 0.5692  \u001b[0m | \u001b[95m 0.6033  \u001b[0m |\n",
            "| \u001b[0m 7       \u001b[0m | \u001b[0m 0.9311  \u001b[0m | \u001b[0m 0.9851  \u001b[0m | \u001b[0m 0.1771  \u001b[0m | \u001b[0m 0.7203  \u001b[0m | \u001b[0m 0.9331  \u001b[0m | \u001b[0m 0.4321  \u001b[0m | \u001b[0m 1.0     \u001b[0m | \u001b[0m 0.4363  \u001b[0m | \u001b[0m 3.134   \u001b[0m | \u001b[0m 26.17   \u001b[0m | \u001b[0m 0.5949  \u001b[0m | \u001b[0m 0.607   \u001b[0m |\n",
            "| \u001b[0m 8       \u001b[0m | \u001b[0m 0.9333  \u001b[0m | \u001b[0m 0.5704  \u001b[0m | \u001b[0m 0.5181  \u001b[0m | \u001b[0m 0.4649  \u001b[0m | \u001b[0m 0.5413  \u001b[0m | \u001b[0m 0.4492  \u001b[0m | \u001b[0m 1.652   \u001b[0m | \u001b[0m 0.1007  \u001b[0m | \u001b[0m 2.563   \u001b[0m | \u001b[0m 25.83   \u001b[0m | \u001b[0m 0.3844  \u001b[0m | \u001b[0m 0.1565  \u001b[0m |\n",
            "| \u001b[0m 9       \u001b[0m | \u001b[0m 0.9292  \u001b[0m | \u001b[0m 0.8153  \u001b[0m | \u001b[0m 0.1588  \u001b[0m | \u001b[0m 0.9613  \u001b[0m | \u001b[0m 0.3782  \u001b[0m | \u001b[0m 0.521   \u001b[0m | \u001b[0m 1.479   \u001b[0m | \u001b[0m 0.6502  \u001b[0m | \u001b[0m 4.002   \u001b[0m | \u001b[0m 26.48   \u001b[0m | \u001b[0m 0.5033  \u001b[0m | \u001b[0m 0.7652  \u001b[0m |\n",
            "| \u001b[0m 10      \u001b[0m | \u001b[0m 0.9202  \u001b[0m | \u001b[0m 0.2813  \u001b[0m | \u001b[0m 0.1464  \u001b[0m | \u001b[0m 0.0771  \u001b[0m | \u001b[0m 0.5781  \u001b[0m | \u001b[0m 0.1649  \u001b[0m | \u001b[0m 1.954   \u001b[0m | \u001b[0m 0.9459  \u001b[0m | \u001b[0m 2.667   \u001b[0m | \u001b[0m 25.54   \u001b[0m | \u001b[0m 0.4723  \u001b[0m | \u001b[0m 0.7874  \u001b[0m |\n",
            "| \u001b[0m 11      \u001b[0m | \u001b[0m 0.9302  \u001b[0m | \u001b[0m 0.8107  \u001b[0m | \u001b[0m 0.2018  \u001b[0m | \u001b[0m 0.1151  \u001b[0m | \u001b[0m 0.1974  \u001b[0m | \u001b[0m 0.7064  \u001b[0m | \u001b[0m 1.766   \u001b[0m | \u001b[0m 0.7077  \u001b[0m | \u001b[0m 2.697   \u001b[0m | \u001b[0m 27.9    \u001b[0m | \u001b[0m 0.6267  \u001b[0m | \u001b[0m 0.8496  \u001b[0m |\n",
            "| \u001b[0m 12      \u001b[0m | \u001b[0m 0.8921  \u001b[0m | \u001b[0m 0.05375 \u001b[0m | \u001b[0m 0.0884  \u001b[0m | \u001b[0m 0.191   \u001b[0m | \u001b[0m 0.4728  \u001b[0m | \u001b[0m 0.02084 \u001b[0m | \u001b[0m 1.271   \u001b[0m | \u001b[0m 0.9286  \u001b[0m | \u001b[0m 3.215   \u001b[0m | \u001b[0m 26.54   \u001b[0m | \u001b[0m 0.4848  \u001b[0m | \u001b[0m 0.1458  \u001b[0m |\n",
            "| \u001b[0m 13      \u001b[0m | \u001b[0m 0.9287  \u001b[0m | \u001b[0m 0.8422  \u001b[0m | \u001b[0m 0.6886  \u001b[0m | \u001b[0m 0.5022  \u001b[0m | \u001b[0m 0.4472  \u001b[0m | \u001b[0m 0.6498  \u001b[0m | \u001b[0m 1.098   \u001b[0m | \u001b[0m 0.7589  \u001b[0m | \u001b[0m 2.494   \u001b[0m | \u001b[0m 25.15   \u001b[0m | \u001b[0m 0.05657 \u001b[0m | \u001b[0m 0.1791  \u001b[0m |\n",
            "| \u001b[0m 14      \u001b[0m | \u001b[0m 0.9325  \u001b[0m | \u001b[0m 0.4747  \u001b[0m | \u001b[0m 0.0641  \u001b[0m | \u001b[0m 0.03995 \u001b[0m | \u001b[0m 0.1886  \u001b[0m | \u001b[0m 0.4763  \u001b[0m | \u001b[0m 1.553   \u001b[0m | \u001b[0m 0.3375  \u001b[0m | \u001b[0m 2.314   \u001b[0m | \u001b[0m 26.91   \u001b[0m | \u001b[0m 0.2397  \u001b[0m | \u001b[0m 0.404   \u001b[0m |\n",
            "| \u001b[0m 15      \u001b[0m | \u001b[0m 0.852   \u001b[0m | \u001b[0m 0.6377  \u001b[0m | \u001b[0m 0.6475  \u001b[0m | \u001b[0m 0.1431  \u001b[0m | \u001b[0m 0.3804  \u001b[0m | \u001b[0m 0.009089\u001b[0m | \u001b[0m 2.017   \u001b[0m | \u001b[0m 0.06497 \u001b[0m | \u001b[0m 2.244   \u001b[0m | \u001b[0m 26.28   \u001b[0m | \u001b[0m 0.4834  \u001b[0m | \u001b[0m 0.1091  \u001b[0m |\n",
            "| \u001b[0m 16      \u001b[0m | \u001b[0m 0.9212  \u001b[0m | \u001b[0m 0.2807  \u001b[0m | \u001b[0m 0.9597  \u001b[0m | \u001b[0m 0.6426  \u001b[0m | \u001b[0m 0.3194  \u001b[0m | \u001b[0m 0.7207  \u001b[0m | \u001b[0m 3.418   \u001b[0m | \u001b[0m 0.978   \u001b[0m | \u001b[0m 7.48    \u001b[0m | \u001b[0m 17.8    \u001b[0m | \u001b[0m 0.5006  \u001b[0m | \u001b[0m 0.5109  \u001b[0m |\n",
            "| \u001b[0m 17      \u001b[0m | \u001b[0m 0.9329  \u001b[0m | \u001b[0m 0.2448  \u001b[0m | \u001b[0m 0.2107  \u001b[0m | \u001b[0m 0.3912  \u001b[0m | \u001b[0m 0.5722  \u001b[0m | \u001b[0m 0.4581  \u001b[0m | \u001b[0m 1.114   \u001b[0m | \u001b[0m 0.4498  \u001b[0m | \u001b[0m 2.452   \u001b[0m | \u001b[0m 26.54   \u001b[0m | \u001b[0m 0.1193  \u001b[0m | \u001b[0m 0.5848  \u001b[0m |\n",
            "| \u001b[0m 18      \u001b[0m | \u001b[0m 0.9213  \u001b[0m | \u001b[0m 0.8194  \u001b[0m | \u001b[0m 0.6321  \u001b[0m | \u001b[0m 0.7712  \u001b[0m | \u001b[0m 0.7305  \u001b[0m | \u001b[0m 0.1509  \u001b[0m | \u001b[0m 1.132   \u001b[0m | \u001b[0m 0.9346  \u001b[0m | \u001b[0m 2.868   \u001b[0m | \u001b[0m 24.49   \u001b[0m | \u001b[0m 0.19    \u001b[0m | \u001b[0m 0.4398  \u001b[0m |\n",
            "| \u001b[0m 19      \u001b[0m | \u001b[0m 0.9061  \u001b[0m | \u001b[0m 0.5983  \u001b[0m | \u001b[0m 0.8191  \u001b[0m | \u001b[0m 0.1594  \u001b[0m | \u001b[0m 0.2775  \u001b[0m | \u001b[0m 0.5713  \u001b[0m | \u001b[0m 28.42   \u001b[0m | \u001b[0m 0.1682  \u001b[0m | \u001b[0m 13.93   \u001b[0m | \u001b[0m 29.89   \u001b[0m | \u001b[0m 0.2172  \u001b[0m | \u001b[0m 0.4592  \u001b[0m |\n",
            "| \u001b[0m 20      \u001b[0m | \u001b[0m 0.9135  \u001b[0m | \u001b[0m 0.6741  \u001b[0m | \u001b[0m 0.009461\u001b[0m | \u001b[0m 0.8859  \u001b[0m | \u001b[0m 0.6004  \u001b[0m | \u001b[0m 0.6953  \u001b[0m | \u001b[0m 11.59   \u001b[0m | \u001b[0m 0.1382  \u001b[0m | \u001b[0m 1.593   \u001b[0m | \u001b[0m 19.86   \u001b[0m | \u001b[0m 0.01957 \u001b[0m | \u001b[0m 0.3596  \u001b[0m |\n",
            "| \u001b[0m 21      \u001b[0m | \u001b[0m 0.8973  \u001b[0m | \u001b[0m 0.2114  \u001b[0m | \u001b[0m 0.9268  \u001b[0m | \u001b[0m 0.3965  \u001b[0m | \u001b[0m 0.7022  \u001b[0m | \u001b[0m 0.02744 \u001b[0m | \u001b[0m 3.756   \u001b[0m | \u001b[0m 0.9451  \u001b[0m | \u001b[0m 7.417   \u001b[0m | \u001b[0m 17.6    \u001b[0m | \u001b[0m 0.1583  \u001b[0m | \u001b[0m 0.4426  \u001b[0m |\n",
            "| \u001b[0m 22      \u001b[0m | \u001b[0m 0.9048  \u001b[0m | \u001b[0m 0.5529  \u001b[0m | \u001b[0m 0.9669  \u001b[0m | \u001b[0m 0.7662  \u001b[0m | \u001b[0m 0.8066  \u001b[0m | \u001b[0m 0.1782  \u001b[0m | \u001b[0m 6.365   \u001b[0m | \u001b[0m 0.8653  \u001b[0m | \u001b[0m 30.64   \u001b[0m | \u001b[0m 2.771   \u001b[0m | \u001b[0m 0.1884  \u001b[0m | \u001b[0m 0.5447  \u001b[0m |\n",
            "| \u001b[0m 23      \u001b[0m | \u001b[0m 0.9049  \u001b[0m | \u001b[0m 0.8474  \u001b[0m | \u001b[0m 0.9855  \u001b[0m | \u001b[0m 0.7278  \u001b[0m | \u001b[0m 0.3142  \u001b[0m | \u001b[0m 0.6144  \u001b[0m | \u001b[0m 28.11   \u001b[0m | \u001b[0m 0.5037  \u001b[0m | \u001b[0m 24.62   \u001b[0m | \u001b[0m 12.69   \u001b[0m | \u001b[0m 0.575   \u001b[0m | \u001b[0m 0.501   \u001b[0m |\n",
            "| \u001b[0m 24      \u001b[0m | \u001b[0m 0.9159  \u001b[0m | \u001b[0m 0.6802  \u001b[0m | \u001b[0m 0.06824 \u001b[0m | \u001b[0m 0.5802  \u001b[0m | \u001b[0m 0.01563 \u001b[0m | \u001b[0m 0.3624  \u001b[0m | \u001b[0m 4.94    \u001b[0m | \u001b[0m 0.7448  \u001b[0m | \u001b[0m 19.0    \u001b[0m | \u001b[0m 22.69   \u001b[0m | \u001b[0m 0.2817  \u001b[0m | \u001b[0m 0.9803  \u001b[0m |\n",
            "| \u001b[0m 25      \u001b[0m | \u001b[0m 0.9271  \u001b[0m | \u001b[0m 0.6449  \u001b[0m | \u001b[0m 0.8396  \u001b[0m | \u001b[0m 0.4097  \u001b[0m | \u001b[0m 0.8586  \u001b[0m | \u001b[0m 0.6149  \u001b[0m | \u001b[0m 2.719   \u001b[0m | \u001b[0m 0.7241  \u001b[0m | \u001b[0m 7.702   \u001b[0m | \u001b[0m 17.64   \u001b[0m | \u001b[0m 0.3587  \u001b[0m | \u001b[0m 0.8084  \u001b[0m |\n",
            "=============================================================================================================================================================\n"
          ]
        },
        {
          "output_type": "execute_result",
          "data": {
            "text/plain": [
              "{'target': 0.9337514493517445,\n",
              " 'params': {'al': 0.9504192100030598,\n",
              "  'bs': 0.2127716045964574,\n",
              "  'cbl': 0.7015711867006326,\n",
              "  'cbn': 0.8931839566362773,\n",
              "  'ct': 0.4538351089045477,\n",
              "  'gam': 1.006974033438124,\n",
              "  'lr': 0.4465403697646929,\n",
              "  'mc': 3.125767198836111,\n",
              "  'md': 26.201051869902994,\n",
              "  'rl': 0.5691589831343009,\n",
              "  'skt': 0.6032819818989552}}"
            ]
          },
          "metadata": {},
          "execution_count": 13
        }
      ]
    },
    {
      "cell_type": "markdown",
      "source": [
        "산출된 하이퍼파라미터를 xgboost에 대입하여, test data로 검증합니다.\n",
        "\n",
        "정확도가 Randomforest와 비슷한 수준으로 상승한 것을 알 수 있습니다."
      ],
      "metadata": {
        "id": "qrU0ObxZAs3X"
      }
    },
    {
      "cell_type": "code",
      "source": [
        "lr = optimizer.max['params']['lr']\n",
        "ct = optimizer.max['params']['ct']\n",
        "rl = optimizer.max['params']['rl']\n",
        "md = optimizer.max['params']['md']\n",
        "gam = optimizer.max['params']['gam']\n",
        "al = optimizer.max['params']['al']\n",
        "skt = optimizer.max['params']['skt']\n",
        "mc = optimizer.max['params']['mc']\n",
        "cbl = optimizer.max['params']['cbl']\n",
        "cbn = optimizer.max['params']['cbn']\n",
        "bs = optimizer.max['params']['bs']\n",
        "\n",
        "model = xg(learning_rate=lr, colsample_bytree=ct,\n",
        "          reg_lambda=rl, max_depth=int(md), gamma=int(gam), reg_alpha=al, sketch_eps=skt,\n",
        "           min_child_weight= mc, colsample_bylevel= cbl, colsample_bynode=cbn, base_score=bs)\n",
        "\n",
        "model.fit(pre_X_train, pre_y_train)\n",
        "pred = model.predict(X_test)\n",
        "\n",
        "print(classification_report(y_test, pred))\n",
        "print()\n",
        "print(confusion_matrix(y_test, pred))"
      ],
      "metadata": {
        "colab": {
          "base_uri": "https://localhost:8080/"
        },
        "id": "1pJ47ZRVvkUS",
        "outputId": "1b7c9d60-f57a-43e5-9af0-71049751c273"
      },
      "execution_count": 14,
      "outputs": [
        {
          "output_type": "stream",
          "name": "stdout",
          "text": [
            "              precision    recall  f1-score   support\n",
            "\n",
            "           0       1.00      1.00      1.00      2645\n",
            "           1       0.96      0.97      0.96      7682\n",
            "           2       0.91      0.93      0.92      8865\n",
            "           3       0.92      0.88      0.90      4526\n",
            "\n",
            "    accuracy                           0.94     23718\n",
            "   macro avg       0.95      0.94      0.95     23718\n",
            "weighted avg       0.94      0.94      0.94     23718\n",
            "\n",
            "\n",
            "[[2645    0    0    0]\n",
            " [   0 7427  255    0]\n",
            " [   0  276 8254  335]\n",
            " [   0    9  528 3989]]\n"
          ]
        }
      ]
    },
    {
      "cell_type": "markdown",
      "source": [
        "xgboost의 분류가 어떤 feature를 중심으로 이루어졌는지 시각화하면, 다음과 같습니다."
      ],
      "metadata": {
        "id": "4qmSf9vzKTbt"
      }
    },
    {
      "cell_type": "code",
      "source": [
        "importances = model.feature_importances_\n",
        "indices = np.argsort(importances)[::-1]\n",
        "\n",
        "print(\"변수 중요도(xgboost)\")\n",
        "for f in range(data.shape[1]):\n",
        "    print(\"{}. feature {} ({:.3f})\".format(f + 1, data.columns[indices][f], importances[indices[f]]))\n",
        "print()\n",
        "\n",
        "plt.figure()\n",
        "plt.bar(range(data.shape[1]), importances[indices],\n",
        "        color=\"b\",align=\"center\")\n",
        "plt.xticks(range(data.shape[1]), data.columns[indices], rotation=90)\n",
        "plt.show()"
      ],
      "metadata": {
        "colab": {
          "base_uri": "https://localhost:8080/",
          "height": 1000
        },
        "id": "En_Ql_3wLMoS",
        "outputId": "3c9f2c31-a499-4e42-81de-b51c6c38981d"
      },
      "execution_count": 15,
      "outputs": [
        {
          "output_type": "stream",
          "name": "stdout",
          "text": [
            "변수 중요도(xgboost)\n",
            "1. feature goalkeeping_handling (0.135)\n",
            "2. feature defending_marking (0.127)\n",
            "3. feature defending_sliding_tackle (0.087)\n",
            "4. feature skill_long_passing (0.079)\n",
            "5. feature defending_standing_tackle (0.072)\n",
            "6. feature attacking_heading_accuracy (0.066)\n",
            "7. feature goalkeeping_diving (0.060)\n",
            "8. feature goalkeeping_positioning (0.045)\n",
            "9. feature mentality_interceptions (0.040)\n",
            "10. feature attacking_finishing (0.039)\n",
            "11. feature power_long_shots (0.030)\n",
            "12. feature attacking_crossing (0.029)\n",
            "13. feature attacking_short_passing (0.029)\n",
            "14. feature attacking_volleys (0.018)\n",
            "15. feature skill_ball_control (0.013)\n",
            "16. feature power_strength (0.011)\n",
            "17. feature skill_dribbling (0.011)\n",
            "18. feature mentality_positioning (0.011)\n",
            "19. feature mentality_vision (0.011)\n",
            "20. feature movement_acceleration (0.010)\n",
            "21. feature mentality_penalties (0.007)\n",
            "22. feature movement_reactions (0.007)\n",
            "23. feature movement_balance (0.006)\n",
            "24. feature power_stamina (0.006)\n",
            "25. feature skill_curve (0.006)\n",
            "26. feature power_jumping (0.006)\n",
            "27. feature movement_sprint_speed (0.006)\n",
            "28. feature goalkeeping_reflexes (0.006)\n",
            "29. feature power_shot_power (0.006)\n",
            "30. feature skill_fk_accuracy (0.005)\n",
            "31. feature goalkeeping_kicking (0.005)\n",
            "32. feature mentality_aggression (0.005)\n",
            "33. feature movement_agility (0.004)\n",
            "\n"
          ]
        },
        {
          "output_type": "display_data",
          "data": {
            "text/plain": [
              "<Figure size 432x288 with 1 Axes>"
            ],
            "image/png": "[encoded data removed]"
          },
          "metadata": {
            "needs_background": "light"
          }
        }
      ]
    },
    {
      "cell_type": "markdown",
      "source": [
        "다양한 과정을 통해 스탯 데이터를 통한 포지션 분류를 진행하였습니다.\n",
        "\n",
        "대체적으로 골키퍼 포지션을 오분류한 경우는 없었으나, 수비수-미드필더, 미드필더-공격수를 오분류한 경우가 많았습니다.\n",
        "\n",
        "대체적으로 각 포지션에서 중요하게 판단되는 스탯, 능력은 그 포지션에 특화된 능력임을 알 수 있었습니다."
      ],
      "metadata": {
        "id": "9RrYlTS_IqKI"
      }
    }
  ]
}